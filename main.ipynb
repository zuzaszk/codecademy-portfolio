{
 "cells": [
  {
   "cell_type": "markdown",
   "metadata": {},
   "source": [
    "# Connecting to the database"
   ]
  },
  {
   "cell_type": "code",
   "execution_count": 49,
   "metadata": {},
   "outputs": [],
   "source": [
    "import sqlite3\n",
    "\n",
    "con = sqlite3.connect('cademycode.db')\n",
    "cur = con.cursor()"
   ]
  },
  {
   "cell_type": "markdown",
   "metadata": {},
   "source": [
    "# Loading into data frames"
   ]
  },
  {
   "cell_type": "markdown",
   "metadata": {},
   "source": [
    "## Table analysis"
   ]
  },
  {
   "cell_type": "code",
   "execution_count": 50,
   "metadata": {},
   "outputs": [
    {
     "name": "stdout",
     "output_type": "stream",
     "text": [
      "('table', 'cademycode_students', 'cademycode_students', 2, 'CREATE TABLE cademycode_students (\\n\\tuuid INTEGER, \\n\\tname VARCHAR, \\n\\tdob VARCHAR, \\n\\tsex TEXT, \\n\\tcontact_info JSON, \\n\\tjob_id VARCHAR, \\n\\tnum_course_taken VARCHAR, \\n\\tcurrent_career_path_id VARCHAR, \\n\\ttime_spent_hrs VARCHAR\\n)')\n",
      "('table', 'cademycode_courses', 'cademycode_courses', 5, 'CREATE TABLE cademycode_courses (\\n\\tcareer_path_id BIGINT, \\n\\tcareer_path_name TEXT, \\n\\thours_to_complete BIGINT\\n)')\n",
      "('table', 'cademycode_student_jobs', 'cademycode_student_jobs', 6, 'CREATE TABLE cademycode_student_jobs (\\n\\tjob_id BIGINT, \\n\\tjob_category TEXT, \\n\\tavg_salary BIGINT\\n)')\n"
     ]
    }
   ],
   "source": [
    "## checking the tables in the database\n",
    "tables = cur.execute('''SELECT * FROM sqlite_master''').fetchall()\n",
    "\n",
    "for table in tables:\n",
    "    print(table)"
   ]
  },
  {
   "cell_type": "code",
   "execution_count": 51,
   "metadata": {},
   "outputs": [
    {
     "name": "stdout",
     "output_type": "stream",
     "text": [
      "\n",
      "cademycode_students\n",
      "(0, 'uuid', 'INTEGER', 0, None, 0)\n",
      "(1, 'name', 'VARCHAR', 0, None, 0)\n",
      "(2, 'dob', 'VARCHAR', 0, None, 0)\n",
      "(3, 'sex', 'TEXT', 0, None, 0)\n",
      "(4, 'contact_info', 'JSON', 0, None, 0)\n",
      "(5, 'job_id', 'VARCHAR', 0, None, 0)\n",
      "(6, 'num_course_taken', 'VARCHAR', 0, None, 0)\n",
      "(7, 'current_career_path_id', 'VARCHAR', 0, None, 0)\n",
      "(8, 'time_spent_hrs', 'VARCHAR', 0, None, 0)\n",
      "\n",
      "cademycode_courses\n",
      "(0, 'career_path_id', 'BIGINT', 0, None, 0)\n",
      "(1, 'career_path_name', 'TEXT', 0, None, 0)\n",
      "(2, 'hours_to_complete', 'BIGINT', 0, None, 0)\n",
      "\n",
      "cademycode_student_jobs\n",
      "(0, 'job_id', 'BIGINT', 0, None, 0)\n",
      "(1, 'job_category', 'TEXT', 0, None, 0)\n",
      "(2, 'avg_salary', 'BIGINT', 0, None, 0)\n"
     ]
    }
   ],
   "source": [
    "## checking columns in the tables\n",
    "for table in tables:\n",
    "    table_name = table[1]\n",
    "    columns = cur.execute(f'''PRAGMA table_info({table_name})''').fetchall()\n",
    "    print(f'\\n{table_name}')\n",
    "    for column in columns:\n",
    "        print(column)"
   ]
  },
  {
   "cell_type": "markdown",
   "metadata": {},
   "source": [
    "## Loading"
   ]
  },
  {
   "cell_type": "code",
   "execution_count": 52,
   "metadata": {},
   "outputs": [],
   "source": [
    "import pandas as pd\n",
    "\n",
    "## reading the tables into pandas\n",
    "cademycode_students = pd.read_sql_query('SELECT * FROM cademycode_students', con)\n",
    "cademycode_courses = pd.read_sql_query('SELECT * FROM cademycode_courses', con)\n",
    "cademycode_student_jobs = pd.read_sql_query('SELECT * FROM cademycode_student_jobs', con)"
   ]
  },
  {
   "cell_type": "markdown",
   "metadata": {},
   "source": [
    "### Students"
   ]
  },
  {
   "cell_type": "code",
   "execution_count": 53,
   "metadata": {},
   "outputs": [
    {
     "name": "stdout",
     "output_type": "stream",
     "text": [
      "\n",
      "### top 5 rows ###\n",
      "   uuid             name         dob sex  \\\n",
      "0     1  Annabelle Avery  1943-07-03   F   \n",
      "1     2      Micah Rubio  1991-02-07   M   \n",
      "2     3       Hosea Dale  1989-12-07   M   \n",
      "3     4     Mariann Kirk  1988-07-31   F   \n",
      "4     5  Lucio Alexander  1963-08-31   M   \n",
      "\n",
      "                                        contact_info job_id num_course_taken  \\\n",
      "0  {\"mailing_address\": \"303 N Timber Key, Irondal...    7.0              6.0   \n",
      "1  {\"mailing_address\": \"767 Crescent Fair, Shoals...    7.0              5.0   \n",
      "2  {\"mailing_address\": \"P.O. Box 41269, St. Bonav...    7.0              8.0   \n",
      "3  {\"mailing_address\": \"517 SE Wintergreen Isle, ...    6.0              7.0   \n",
      "4  {\"mailing_address\": \"18 Cinder Cliff, Doyles b...    7.0             14.0   \n",
      "\n",
      "  current_career_path_id time_spent_hrs  \n",
      "0                    1.0           4.99  \n",
      "1                    8.0            4.4  \n",
      "2                    8.0           6.74  \n",
      "3                    9.0          12.31  \n",
      "4                    3.0           5.64  \n"
     ]
    }
   ],
   "source": [
    "print('\\n### top 5 rows ###')\n",
    "print(cademycode_students.head())"
   ]
  },
  {
   "cell_type": "code",
   "execution_count": 54,
   "metadata": {},
   "outputs": [
    {
     "name": "stdout",
     "output_type": "stream",
     "text": [
      "\n",
      "### info ###\n",
      "<class 'pandas.core.frame.DataFrame'>\n",
      "RangeIndex: 5000 entries, 0 to 4999\n",
      "Data columns (total 9 columns):\n",
      " #   Column                  Non-Null Count  Dtype \n",
      "---  ------                  --------------  ----- \n",
      " 0   uuid                    5000 non-null   int64 \n",
      " 1   name                    5000 non-null   object\n",
      " 2   dob                     5000 non-null   object\n",
      " 3   sex                     5000 non-null   object\n",
      " 4   contact_info            5000 non-null   object\n",
      " 5   job_id                  4995 non-null   object\n",
      " 6   num_course_taken        4749 non-null   object\n",
      " 7   current_career_path_id  4529 non-null   object\n",
      " 8   time_spent_hrs          4529 non-null   object\n",
      "dtypes: int64(1), object(8)\n",
      "memory usage: 351.7+ KB\n",
      "None\n"
     ]
    }
   ],
   "source": [
    "print('\\n### info ###')\n",
    "print(cademycode_students.info())"
   ]
  },
  {
   "cell_type": "code",
   "execution_count": 55,
   "metadata": {},
   "outputs": [
    {
     "name": "stdout",
     "output_type": "stream",
     "text": [
      "\n",
      "### info after update ###\n",
      "<class 'pandas.core.frame.DataFrame'>\n",
      "RangeIndex: 5000 entries, 0 to 4999\n",
      "Data columns (total 9 columns):\n",
      " #   Column                  Non-Null Count  Dtype \n",
      "---  ------                  --------------  ----- \n",
      " 0   uuid                    5000 non-null   int64 \n",
      " 1   name                    5000 non-null   object\n",
      " 2   dob                     5000 non-null   object\n",
      " 3   sex                     5000 non-null   object\n",
      " 4   contact_info            5000 non-null   object\n",
      " 5   job_id                  4995 non-null   object\n",
      " 6   num_course_taken        4749 non-null   object\n",
      " 7   current_career_path_id  4529 non-null   object\n",
      " 8   time_spent_hrs          4529 non-null   object\n",
      "dtypes: int64(1), object(8)\n",
      "memory usage: 351.7+ KB\n",
      "None\n"
     ]
    }
   ],
   "source": [
    "cademycode_students = cademycode_students.drop_duplicates()\n",
    "\n",
    "print('\\n### info after update ###')\n",
    "print(cademycode_students.info())"
   ]
  },
  {
   "cell_type": "code",
   "execution_count": 56,
   "metadata": {},
   "outputs": [
    {
     "name": "stdout",
     "output_type": "stream",
     "text": [
      "('{\"mailing_address\": \"303 N Timber Key, Irondale, Wisconsin, 84736\", \"email\": \"annabelle_avery9376@woohoo.com\"}',)\n"
     ]
    }
   ],
   "source": [
    "print(cur.execute('''SELECT contact_info FROM cademycode_students''').fetchone())"
   ]
  },
  {
   "cell_type": "code",
   "execution_count": 57,
   "metadata": {},
   "outputs": [
    {
     "name": "stdout",
     "output_type": "stream",
     "text": [
      "0    {\"mailing_address\": \"303 N Timber Key, Irondal...\n",
      "1    {\"mailing_address\": \"767 Crescent Fair, Shoals...\n",
      "2    {\"mailing_address\": \"P.O. Box 41269, St. Bonav...\n",
      "3    {\"mailing_address\": \"517 SE Wintergreen Isle, ...\n",
      "4    {\"mailing_address\": \"18 Cinder Cliff, Doyles b...\n",
      "Name: contact_info, dtype: object\n"
     ]
    }
   ],
   "source": [
    "print(cademycode_students['contact_info'].head())"
   ]
  },
  {
   "cell_type": "code",
   "execution_count": 58,
   "metadata": {
    "vscode": {
     "languageId": "ruby"
    }
   },
   "outputs": [
    {
     "name": "stdout",
     "output_type": "stream",
     "text": [
      "   uuid             name         dob sex job_id num_course_taken  \\\n",
      "0     1  Annabelle Avery  1943-07-03   F    7.0              6.0   \n",
      "1     2      Micah Rubio  1991-02-07   M    7.0              5.0   \n",
      "2     3       Hosea Dale  1989-12-07   M    7.0              8.0   \n",
      "3     4     Mariann Kirk  1988-07-31   F    6.0              7.0   \n",
      "4     5  Lucio Alexander  1963-08-31   M    7.0             14.0   \n",
      "\n",
      "  current_career_path_id time_spent_hrs  \\\n",
      "0                    1.0           4.99   \n",
      "1                    8.0            4.4   \n",
      "2                    8.0           6.74   \n",
      "3                    9.0          12.31   \n",
      "4                    3.0           5.64   \n",
      "\n",
      "                                     mailing_address  \\\n",
      "0  {\"mailing_address\": \"303 N Timber Key, Irondal...   \n",
      "1  {\"mailing_address\": \"767 Crescent Fair, Shoals...   \n",
      "2  {\"mailing_address\": \"P.O. Box 41269, St. Bonav...   \n",
      "3  {\"mailing_address\": \"517 SE Wintergreen Isle, ...   \n",
      "4  {\"mailing_address\": \"18 Cinder Cliff, Doyles b...   \n",
      "\n",
      "                                        email  \n",
      "0  \"email\": \"annabelle_avery9376@woohoo.com\"}  \n",
      "1             \"email\": \"rubio6772@hmail.com\"}  \n",
      "2     \"email\": \"hosea_dale8084@coldmail.com\"}  \n",
      "3              \"email\": \"kirk4005@hmail.com\"}  \n",
      "4         \"email\": \"alexander9810@hmail.com\"}  \n"
     ]
    }
   ],
   "source": [
    "# TODO: split the contact_info column into two columns: mailing address and email\n",
    "# {\"mailing_address\": \"303 N Timber Key, Irondale, Wisconsin, 84736\", \"email\": \"annabelle_avery9376@woohoo.com\"}\n",
    "cademycode_students['mailing_address'] = cademycode_students['contact_info'].apply(lambda x: x.split('\", ')[0])\n",
    "cademycode_students['email'] = cademycode_students['contact_info'].apply(lambda x: x.split('\", ')[1])\n",
    "\n",
    "# drop the contact_info column\n",
    "cademycode_students.drop('contact_info', axis=1, inplace=True)\n",
    "\n",
    "# updated dataframe\n",
    "print(cademycode_students.head())"
   ]
  },
  {
   "cell_type": "code",
   "execution_count": 68,
   "metadata": {},
   "outputs": [
    {
     "name": "stdout",
     "output_type": "stream",
     "text": [
      "   uuid             name         dob sex job_id num_course_taken  \\\n",
      "0     1  Annabelle Avery  1943-07-03   F    7.0              6.0   \n",
      "1     2      Micah Rubio  1991-02-07   M    7.0              5.0   \n",
      "2     3       Hosea Dale  1989-12-07   M    7.0              8.0   \n",
      "3     4     Mariann Kirk  1988-07-31   F    6.0              7.0   \n",
      "4     5  Lucio Alexander  1963-08-31   M    7.0             14.0   \n",
      "\n",
      "  current_career_path_id time_spent_hrs  \\\n",
      "0                    1.0           4.99   \n",
      "1                    8.0            4.4   \n",
      "2                    8.0           6.74   \n",
      "3                    9.0          12.31   \n",
      "4                    3.0           5.64   \n",
      "\n",
      "                                     mailing_address  \\\n",
      "0       303 N Timber Key, Irondale, Wisconsin, 84736   \n",
      "1          767 Crescent Fair, Shoals, Indiana, 37439   \n",
      "2   P.O. Box 41269, St. Bonaventure, Virginia, 83637   \n",
      "3     517 SE Wintergreen Isle, Lane, Arkansas, 82242   \n",
      "4   18 Cinder Cliff, Doyles borough, Rhode Island...   \n",
      "\n",
      "                             email  \n",
      "0   annabelle_avery9376@woohoo.com  \n",
      "1              rubio6772@hmail.com  \n",
      "2      hosea_dale8084@coldmail.com  \n",
      "3               kirk4005@hmail.com  \n",
      "4          alexander9810@hmail.com  \n"
     ]
    }
   ],
   "source": [
    "# clean up the new columns\n",
    "cademycode_students['mailing_address'] = cademycode_students['mailing_address'].apply(lambda x: x.replace('{', '').replace('}', '').replace('\"', '').replace('mailing_address:', ''))\n",
    "cademycode_students['email'] = cademycode_students['email'].apply(lambda x: x.replace('{', '').replace('}', '').replace('\"', '').replace('email:', ''))\n",
    "\n",
    "print(cademycode_students.head())"
   ]
  },
  {
   "cell_type": "markdown",
   "metadata": {},
   "source": [
    "### Courses"
   ]
  },
  {
   "cell_type": "code",
   "execution_count": 60,
   "metadata": {},
   "outputs": [
    {
     "name": "stdout",
     "output_type": "stream",
     "text": [
      "\n",
      "### top 5 rows ###\n",
      "   career_path_id      career_path_name  hours_to_complete\n",
      "0               1        data scientist                 20\n",
      "1               2         data engineer                 20\n",
      "2               3          data analyst                 12\n",
      "3               4  software engineering                 25\n",
      "4               5      backend engineer                 18\n",
      "\n",
      "### info ###\n",
      "<class 'pandas.core.frame.DataFrame'>\n",
      "RangeIndex: 10 entries, 0 to 9\n",
      "Data columns (total 3 columns):\n",
      " #   Column             Non-Null Count  Dtype \n",
      "---  ------             --------------  ----- \n",
      " 0   career_path_id     10 non-null     int64 \n",
      " 1   career_path_name   10 non-null     object\n",
      " 2   hours_to_complete  10 non-null     int64 \n",
      "dtypes: int64(2), object(1)\n",
      "memory usage: 372.0+ bytes\n",
      "None\n"
     ]
    }
   ],
   "source": [
    "print('\\n### top 5 rows ###')\n",
    "print(cademycode_courses.head())\n",
    "\n",
    "print('\\n### info ###')\n",
    "print(cademycode_courses.info())"
   ]
  },
  {
   "cell_type": "code",
   "execution_count": 61,
   "metadata": {},
   "outputs": [
    {
     "name": "stdout",
     "output_type": "stream",
     "text": [
      "\n",
      "### info after update ###\n",
      "<class 'pandas.core.frame.DataFrame'>\n",
      "RangeIndex: 10 entries, 0 to 9\n",
      "Data columns (total 3 columns):\n",
      " #   Column             Non-Null Count  Dtype \n",
      "---  ------             --------------  ----- \n",
      " 0   career_path_id     10 non-null     int64 \n",
      " 1   career_path_name   10 non-null     object\n",
      " 2   hours_to_complete  10 non-null     int64 \n",
      "dtypes: int64(2), object(1)\n",
      "memory usage: 372.0+ bytes\n",
      "None\n"
     ]
    }
   ],
   "source": [
    "cademycode_courses = cademycode_courses.drop_duplicates()\n",
    "\n",
    "print('\\n### info after update ###')\n",
    "print(cademycode_courses.info())"
   ]
  },
  {
   "cell_type": "markdown",
   "metadata": {},
   "source": [
    "### Student Jobs"
   ]
  },
  {
   "cell_type": "code",
   "execution_count": 62,
   "metadata": {},
   "outputs": [
    {
     "name": "stdout",
     "output_type": "stream",
     "text": [
      "\n",
      "### top 5 rows ###\n",
      "   job_id        job_category  avg_salary\n",
      "0       1           analytics       86000\n",
      "1       2            engineer      101000\n",
      "2       3  software developer      110000\n",
      "3       4            creative       66000\n",
      "4       5  financial services      135000\n",
      "\n",
      "### info ###\n",
      "<class 'pandas.core.frame.DataFrame'>\n",
      "RangeIndex: 13 entries, 0 to 12\n",
      "Data columns (total 3 columns):\n",
      " #   Column        Non-Null Count  Dtype \n",
      "---  ------        --------------  ----- \n",
      " 0   job_id        13 non-null     int64 \n",
      " 1   job_category  13 non-null     object\n",
      " 2   avg_salary    13 non-null     int64 \n",
      "dtypes: int64(2), object(1)\n",
      "memory usage: 444.0+ bytes\n",
      "None\n"
     ]
    }
   ],
   "source": [
    "print('\\n### top 5 rows ###')\n",
    "print(cademycode_student_jobs.head())\n",
    "\n",
    "print('\\n### info ###')\n",
    "print(cademycode_student_jobs.info())"
   ]
  },
  {
   "cell_type": "code",
   "execution_count": 63,
   "metadata": {},
   "outputs": [
    {
     "name": "stdout",
     "output_type": "stream",
     "text": [
      "\n",
      "### info after update ###\n",
      "<class 'pandas.core.frame.DataFrame'>\n",
      "Index: 10 entries, 0 to 9\n",
      "Data columns (total 3 columns):\n",
      " #   Column        Non-Null Count  Dtype \n",
      "---  ------        --------------  ----- \n",
      " 0   job_id        10 non-null     int64 \n",
      " 1   job_category  10 non-null     object\n",
      " 2   avg_salary    10 non-null     int64 \n",
      "dtypes: int64(2), object(1)\n",
      "memory usage: 320.0+ bytes\n",
      "None\n"
     ]
    }
   ],
   "source": [
    "cademycode_student_jobs = cademycode_student_jobs.drop_duplicates()\n",
    "\n",
    "print('\\n### info after update ###')\n",
    "print(cademycode_student_jobs.info())"
   ]
  },
  {
   "cell_type": "markdown",
   "metadata": {},
   "source": [
    "# Output CSV"
   ]
  },
  {
   "cell_type": "code",
   "execution_count": 64,
   "metadata": {},
   "outputs": [],
   "source": [
    "con2 = sqlite3.connect('cademycode_updated.db')\n",
    "cur2 = con2.cursor()\n"
   ]
  }
 ],
 "metadata": {
  "kernelspec": {
   "display_name": "base",
   "language": "python",
   "name": "python3"
  },
  "language_info": {
   "codemirror_mode": {
    "name": "ipython",
    "version": 3
   },
   "file_extension": ".py",
   "mimetype": "text/x-python",
   "name": "python",
   "nbconvert_exporter": "python",
   "pygments_lexer": "ipython3",
   "version": "3.12.4"
  }
 },
 "nbformat": 4,
 "nbformat_minor": 2
}
